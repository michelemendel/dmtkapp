{
 "cells": [
  {
   "cell_type": "code",
   "execution_count": 1,
   "metadata": {},
   "outputs": [],
   "source": [
    "import firebase_kapp_api as f\n",
    "import pandas as pd"
   ]
  },
  {
   "cell_type": "code",
   "execution_count": 19,
   "metadata": {},
   "outputs": [
    {
     "data": {
      "text/html": [
       "<div>\n",
       "<style scoped>\n",
       "    .dataframe tbody tr th:only-of-type {\n",
       "        vertical-align: middle;\n",
       "    }\n",
       "\n",
       "    .dataframe tbody tr th {\n",
       "        vertical-align: top;\n",
       "    }\n",
       "\n",
       "    .dataframe thead th {\n",
       "        text-align: right;\n",
       "    }\n",
       "</style>\n",
       "<table border=\"1\" class=\"dataframe\">\n",
       "  <thead>\n",
       "    <tr style=\"text-align: right;\">\n",
       "      <th></th>\n",
       "      <th>category</th>\n",
       "      <th>sub_category</th>\n",
       "      <th>producer</th>\n",
       "      <th>product</th>\n",
       "      <th>kosher_type</th>\n",
       "      <th>kosher_stamp</th>\n",
       "      <th>comment</th>\n",
       "    </tr>\n",
       "  </thead>\n",
       "  <tbody>\n",
       "    <tr>\n",
       "      <th>0</th>\n",
       "      <td>bakeartiklar</td>\n",
       "      <td></td>\n",
       "      <td>Toro</td>\n",
       "      <td>Fine rundstykker</td>\n",
       "      <td>p</td>\n",
       "      <td></td>\n",
       "      <td></td>\n",
       "    </tr>\n",
       "    <tr>\n",
       "      <th>1</th>\n",
       "      <td>bakeartiklar</td>\n",
       "      <td></td>\n",
       "      <td>Toro</td>\n",
       "      <td>Grove rundstykker</td>\n",
       "      <td>p</td>\n",
       "      <td></td>\n",
       "      <td></td>\n",
       "    </tr>\n",
       "    <tr>\n",
       "      <th>2</th>\n",
       "      <td>bakeartiklar</td>\n",
       "      <td></td>\n",
       "      <td>Toro</td>\n",
       "      <td>Havrebrød</td>\n",
       "      <td>p</td>\n",
       "      <td></td>\n",
       "      <td></td>\n",
       "    </tr>\n",
       "    <tr>\n",
       "      <th>3</th>\n",
       "      <td>bakeartiklar</td>\n",
       "      <td></td>\n",
       "      <td>Toro</td>\n",
       "      <td>Knekkebrød</td>\n",
       "      <td>p</td>\n",
       "      <td></td>\n",
       "      <td></td>\n",
       "    </tr>\n",
       "    <tr>\n",
       "      <th>4</th>\n",
       "      <td>bakeartiklar</td>\n",
       "      <td>hvetebakst</td>\n",
       "      <td>Bakehuset</td>\n",
       "      <td>Hveteboller 8 pk</td>\n",
       "      <td>M*</td>\n",
       "      <td></td>\n",
       "      <td></td>\n",
       "    </tr>\n",
       "    <tr>\n",
       "      <th>5</th>\n",
       "      <td>bakeartiklar</td>\n",
       "      <td>hvetebakst</td>\n",
       "      <td>Bakehuset</td>\n",
       "      <td>Rosinboller 8 pk</td>\n",
       "      <td>M*</td>\n",
       "      <td></td>\n",
       "      <td></td>\n",
       "    </tr>\n",
       "    <tr>\n",
       "      <th>6</th>\n",
       "      <td>bakeartiklar</td>\n",
       "      <td>hvetebakst</td>\n",
       "      <td>Bakehuset</td>\n",
       "      <td>Kanelboller 8 pk</td>\n",
       "      <td>M*</td>\n",
       "      <td></td>\n",
       "      <td></td>\n",
       "    </tr>\n",
       "    <tr>\n",
       "      <th>7</th>\n",
       "      <td>bakeartiklar</td>\n",
       "      <td>hvetebakst</td>\n",
       "      <td>Bakehuset</td>\n",
       "      <td>Sjokoladeboller 8 pk</td>\n",
       "      <td>M</td>\n",
       "      <td></td>\n",
       "      <td></td>\n",
       "    </tr>\n",
       "    <tr>\n",
       "      <th>8</th>\n",
       "      <td>bakeartiklar</td>\n",
       "      <td>hvetebakst</td>\n",
       "      <td>Bakehuset</td>\n",
       "      <td>Ferske Boller 8 pk</td>\n",
       "      <td>M*</td>\n",
       "      <td></td>\n",
       "      <td></td>\n",
       "    </tr>\n",
       "    <tr>\n",
       "      <th>9</th>\n",
       "      <td>bakeartiklar</td>\n",
       "      <td>hvetebakst</td>\n",
       "      <td>Bakehuset</td>\n",
       "      <td>Martin Nordby Hveteboller 8 pk</td>\n",
       "      <td>M*</td>\n",
       "      <td></td>\n",
       "      <td></td>\n",
       "    </tr>\n",
       "    <tr>\n",
       "      <th>10</th>\n",
       "      <td>bakeartiklar</td>\n",
       "      <td></td>\n",
       "      <td>Moro</td>\n",
       "      <td>Havrebrød</td>\n",
       "      <td>m</td>\n",
       "      <td></td>\n",
       "      <td></td>\n",
       "    </tr>\n",
       "    <tr>\n",
       "      <th>11</th>\n",
       "      <td>bakeartiklar</td>\n",
       "      <td>hvetebakst</td>\n",
       "      <td>Bakehuset</td>\n",
       "      <td>Martin Nordby Rosinboller 8 pk</td>\n",
       "      <td>M*</td>\n",
       "      <td></td>\n",
       "      <td></td>\n",
       "    </tr>\n",
       "    <tr>\n",
       "      <th>12</th>\n",
       "      <td>bakeartiklar</td>\n",
       "      <td>hvetebakst</td>\n",
       "      <td>Bakehuset</td>\n",
       "      <td>Fobetron 6 pk</td>\n",
       "      <td>M</td>\n",
       "      <td></td>\n",
       "      <td></td>\n",
       "    </tr>\n",
       "    <tr>\n",
       "      <th>13</th>\n",
       "      <td>bakeartiklar</td>\n",
       "      <td>hvetebakst</td>\n",
       "      <td>Bakehuset</td>\n",
       "      <td>Vaniljeboller 6 pk</td>\n",
       "      <td>M*</td>\n",
       "      <td></td>\n",
       "      <td></td>\n",
       "    </tr>\n",
       "    <tr>\n",
       "      <th>14</th>\n",
       "      <td>bakeartiklar</td>\n",
       "      <td>hvetebakst</td>\n",
       "      <td>Bakehuset</td>\n",
       "      <td>Skolebrød</td>\n",
       "      <td>M</td>\n",
       "      <td></td>\n",
       "      <td></td>\n",
       "    </tr>\n",
       "    <tr>\n",
       "      <th>15</th>\n",
       "      <td>bakeartiklar</td>\n",
       "      <td>hvetebakst</td>\n",
       "      <td>Bakehuset</td>\n",
       "      <td>Solskinnsboller</td>\n",
       "      <td>M</td>\n",
       "      <td></td>\n",
       "      <td></td>\n",
       "    </tr>\n",
       "    <tr>\n",
       "      <th>16</th>\n",
       "      <td>bakeartiklar</td>\n",
       "      <td>hvetebakst</td>\n",
       "      <td>Bakehuset</td>\n",
       "      <td>Skillingsboller</td>\n",
       "      <td>M*</td>\n",
       "      <td></td>\n",
       "      <td></td>\n",
       "    </tr>\n",
       "    <tr>\n",
       "      <th>17</th>\n",
       "      <td>bakeartiklar</td>\n",
       "      <td>hvetebakst</td>\n",
       "      <td>Bakehuset</td>\n",
       "      <td>Sommerbolle</td>\n",
       "      <td>M</td>\n",
       "      <td></td>\n",
       "      <td></td>\n",
       "    </tr>\n",
       "    <tr>\n",
       "      <th>18</th>\n",
       "      <td>bakeartiklar</td>\n",
       "      <td>hvetebakst</td>\n",
       "      <td>Bakehuset</td>\n",
       "      <td>Solskinnsboller</td>\n",
       "      <td>M</td>\n",
       "      <td></td>\n",
       "      <td></td>\n",
       "    </tr>\n",
       "    <tr>\n",
       "      <th>19</th>\n",
       "      <td>bakeartiklar</td>\n",
       "      <td>hvetebakst</td>\n",
       "      <td>Bakehuset</td>\n",
       "      <td>Ferske Skolebrød</td>\n",
       "      <td>M</td>\n",
       "      <td></td>\n",
       "      <td></td>\n",
       "    </tr>\n",
       "  </tbody>\n",
       "</table>\n",
       "</div>"
      ],
      "text/plain": [
       "        category sub_category   producer                         product  \\\n",
       "0   bakeartiklar                    Toro                Fine rundstykker   \n",
       "1   bakeartiklar                    Toro               Grove rundstykker   \n",
       "2   bakeartiklar                    Toro                       Havrebrød   \n",
       "3   bakeartiklar                    Toro                      Knekkebrød   \n",
       "4   bakeartiklar   hvetebakst  Bakehuset                Hveteboller 8 pk   \n",
       "5   bakeartiklar   hvetebakst  Bakehuset                Rosinboller 8 pk   \n",
       "6   bakeartiklar   hvetebakst  Bakehuset                Kanelboller 8 pk   \n",
       "7   bakeartiklar   hvetebakst  Bakehuset            Sjokoladeboller 8 pk   \n",
       "8   bakeartiklar   hvetebakst  Bakehuset              Ferske Boller 8 pk   \n",
       "9   bakeartiklar   hvetebakst  Bakehuset  Martin Nordby Hveteboller 8 pk   \n",
       "10  bakeartiklar                    Moro                       Havrebrød   \n",
       "11  bakeartiklar   hvetebakst  Bakehuset  Martin Nordby Rosinboller 8 pk   \n",
       "12  bakeartiklar   hvetebakst  Bakehuset                   Fobetron 6 pk   \n",
       "13  bakeartiklar   hvetebakst  Bakehuset              Vaniljeboller 6 pk   \n",
       "14  bakeartiklar   hvetebakst  Bakehuset                       Skolebrød   \n",
       "15  bakeartiklar   hvetebakst  Bakehuset                 Solskinnsboller   \n",
       "16  bakeartiklar   hvetebakst  Bakehuset                 Skillingsboller   \n",
       "17  bakeartiklar   hvetebakst  Bakehuset                     Sommerbolle   \n",
       "18  bakeartiklar   hvetebakst  Bakehuset                 Solskinnsboller   \n",
       "19  bakeartiklar   hvetebakst  Bakehuset                Ferske Skolebrød   \n",
       "\n",
       "   kosher_type kosher_stamp comment  \n",
       "0            p                       \n",
       "1            p                       \n",
       "2            p                       \n",
       "3            p                       \n",
       "4           M*                       \n",
       "5           M*                       \n",
       "6           M*                       \n",
       "7            M                       \n",
       "8           M*                       \n",
       "9           M*                       \n",
       "10           m                       \n",
       "11          M*                       \n",
       "12           M                       \n",
       "13          M*                       \n",
       "14           M                       \n",
       "15           M                       \n",
       "16          M*                       \n",
       "17           M                       \n",
       "18           M                       \n",
       "19           M                       "
      ]
     },
     "execution_count": 19,
     "metadata": {},
     "output_type": "execute_result"
    }
   ],
   "source": [
    "csv_path = 'products.csv'\n",
    "df = pd.read_csv(csv_path).fillna(\"\")\n",
    "df"
   ]
  },
  {
   "cell_type": "code",
   "execution_count": 18,
   "metadata": {},
   "outputs": [
    {
     "data": {
      "text/html": [
       "<div>\n",
       "<style scoped>\n",
       "    .dataframe tbody tr th:only-of-type {\n",
       "        vertical-align: middle;\n",
       "    }\n",
       "\n",
       "    .dataframe tbody tr th {\n",
       "        vertical-align: top;\n",
       "    }\n",
       "\n",
       "    .dataframe thead th {\n",
       "        text-align: right;\n",
       "    }\n",
       "</style>\n",
       "<table border=\"1\" class=\"dataframe\">\n",
       "  <thead>\n",
       "    <tr style=\"text-align: right;\">\n",
       "      <th></th>\n",
       "      <th>category</th>\n",
       "      <th>sub_category</th>\n",
       "      <th>producer</th>\n",
       "      <th>product</th>\n",
       "      <th>kosher_type</th>\n",
       "      <th>kosher_stamp</th>\n",
       "      <th>comment</th>\n",
       "    </tr>\n",
       "  </thead>\n",
       "  <tbody>\n",
       "    <tr>\n",
       "      <th>2</th>\n",
       "      <td>bakeartiklar</td>\n",
       "      <td></td>\n",
       "      <td>Toro</td>\n",
       "      <td>Havrebrød</td>\n",
       "      <td>p</td>\n",
       "      <td></td>\n",
       "      <td></td>\n",
       "    </tr>\n",
       "    <tr>\n",
       "      <th>10</th>\n",
       "      <td>bakeartiklar</td>\n",
       "      <td></td>\n",
       "      <td>Moro</td>\n",
       "      <td>Havrebrød</td>\n",
       "      <td>m</td>\n",
       "      <td></td>\n",
       "      <td></td>\n",
       "    </tr>\n",
       "    <tr>\n",
       "      <th>15</th>\n",
       "      <td>bakeartiklar</td>\n",
       "      <td>hvetebakst</td>\n",
       "      <td>Bakehuset</td>\n",
       "      <td>Solskinnsboller</td>\n",
       "      <td>M</td>\n",
       "      <td></td>\n",
       "      <td></td>\n",
       "    </tr>\n",
       "    <tr>\n",
       "      <th>18</th>\n",
       "      <td>bakeartiklar</td>\n",
       "      <td>hvetebakst</td>\n",
       "      <td>Bakehuset</td>\n",
       "      <td>Solskinnsboller</td>\n",
       "      <td>M</td>\n",
       "      <td></td>\n",
       "      <td></td>\n",
       "    </tr>\n",
       "  </tbody>\n",
       "</table>\n",
       "</div>"
      ],
      "text/plain": [
       "        category sub_category   producer          product kosher_type  \\\n",
       "2   bakeartiklar                    Toro        Havrebrød           p   \n",
       "10  bakeartiklar                    Moro        Havrebrød           m   \n",
       "15  bakeartiklar   hvetebakst  Bakehuset  Solskinnsboller           M   \n",
       "18  bakeartiklar   hvetebakst  Bakehuset  Solskinnsboller           M   \n",
       "\n",
       "   kosher_stamp comment  \n",
       "2                        \n",
       "10                       \n",
       "15                       \n",
       "18                       "
      ]
     },
     "execution_count": 18,
     "metadata": {},
     "output_type": "execute_result"
    }
   ],
   "source": [
    "# Find duplicates in the CSV file.\n",
    "dups = df.duplicated(subset='product', keep=False) \n",
    "df[dups].sort_values(by='product')"
   ]
  },
  {
   "cell_type": "code",
   "execution_count": 4,
   "metadata": {
    "collapsed": true
   },
   "outputs": [
    {
     "name": "stdout",
     "output_type": "stream",
     "text": [
      "+Product Fine rundstykker (u98aTIO33Bd8ddDSuLP2) was created\n",
      "+Product Grove rundstykker (FgHXL5LqV0q4MKXbYtIv) was created\n",
      "+Product Havrebrød (MqKPnSPSNALTt9NTavtY) was created\n",
      "+Product Knekkebrød (MB7NyUkEQig3J0NObXWg) was created\n",
      "+Product Hveteboller 8 pk (SZ7tduVt4sODCul1ubyd) was created\n",
      "+Product Rosinboller 8 pk (HzIoBAqqqaJLvoKiQdDQ) was created\n",
      "+Product Kanelboller 8 pk (aKhqpAOpt3QqVizyXJyc) was created\n",
      "+Product Sjokoladeboller 8 pk (OUunVw3hpVxS25J9Q52T) was created\n",
      "+Product Ferske Boller 8 pk (7JMNw46AUUOigBc3A2Hz) was created\n",
      "+Product Martin Nordby Hveteboller 8 pk (E4kEVTQIPzswp3hSWyPs) was created\n",
      "+Product Havrebrød (cq8UoeC2ZCe1LD8544hN) was created\n",
      "+Product Martin Nordby Rosinboller 8 pk (tgJZJ4lJkrXupRivJZ3S) was created\n",
      "+Product Fobetron 6 pk (hCgIZ5ozUxu5hAancV0C) was created\n",
      "+Product Vaniljeboller 6 pk (lI9mE0Yiz5Wz0rMLKWAl) was created\n",
      "+Product Skolebrød (0qAGFb8MaQYgLlv7jsdf) was created\n",
      "+Product Solskinnsboller (AESaSZaGuFIGpPqaym41) was created\n",
      "+Product Skillingsboller (O2qLXhLwZOCL1p5lpVYN) was created\n",
      "+Product Sommerbolle (ORzwGI8hxFoC541yiUt1) was created\n",
      "+Product Solskinnsboller (AgMyvFR2pHhtUbIo7qzv) was created\n",
      "+Product Ferske Skolebrød (AW6QRr66epzuMjV5Z8Y4) was created\n"
     ]
    }
   ],
   "source": [
    "f.batch_create(df)"
   ]
  },
  {
   "cell_type": "code",
   "execution_count": 4,
   "metadata": {
    "collapsed": true
   },
   "outputs": [
    {
     "data": {
      "text/plain": [
       "20"
      ]
     },
     "execution_count": 4,
     "metadata": {},
     "output_type": "execute_result"
    },
    {
     "data": {
      "text/plain": [
       "17"
      ]
     },
     "execution_count": 4,
     "metadata": {},
     "output_type": "execute_result"
    }
   ],
   "source": [
    "len(df)\n",
    "f.nofProducts()"
   ]
  },
  {
   "cell_type": "code",
   "execution_count": 2,
   "metadata": {
    "collapsed": true
   },
   "outputs": [
    {
     "name": "stdout",
     "output_type": "stream",
     "text": [
      "id:0qAGFb8MaQYgLlv7jsdf\n",
      "product:Skolebrød\n",
      "\n",
      "id:7JMNw46AUUOigBc3A2Hz\n",
      "product:Ferske Boller 8 pk\n",
      "\n",
      "id:AW6QRr66epzuMjV5Z8Y4\n",
      "product:Ferske Skolebrød\n",
      "\n",
      "id:AgMyvFR2pHhtUbIo7qzv\n",
      "product:Solskinnsboller\n",
      "\n",
      "id:E4kEVTQIPzswp3hSWyPs\n",
      "product:Martin Nordby Hveteboller 8 pk\n",
      "\n",
      "id:FgHXL5LqV0q4MKXbYtIv\n",
      "product:Grove rundstykker\n",
      "\n",
      "id:HzIoBAqqqaJLvoKiQdDQ\n",
      "product:Rosinboller 8 pk\n",
      "\n",
      "id:MB7NyUkEQig3J0NObXWg\n",
      "product:Knekkebrød\n",
      "\n",
      "id:O2qLXhLwZOCL1p5lpVYN\n",
      "product:Skillingsboller\n",
      "\n",
      "id:ORzwGI8hxFoC541yiUt1\n",
      "product:Sommerbolle\n",
      "\n",
      "id:OUunVw3hpVxS25J9Q52T\n",
      "product:Sjokoladeboller 8 pk\n",
      "\n",
      "id:SZ7tduVt4sODCul1ubyd\n",
      "product:Hveteboller 8 pk\n",
      "\n",
      "id:aKhqpAOpt3QqVizyXJyc\n",
      "product:Kanelboller 8 pk\n",
      "\n",
      "id:cq8UoeC2ZCe1LD8544hN\n",
      "product:Havrebrød\n",
      "\n",
      "id:hCgIZ5ozUxu5hAancV0C\n",
      "product:Fobetron 6 pk\n",
      "\n",
      "id:lI9mE0Yiz5Wz0rMLKWAl\n",
      "product:Vaniljeboller 6 pk\n",
      "\n",
      "id:tgJZJ4lJkrXupRivJZ3S\n",
      "product:Martin Nordby Rosinboller 8 pk\n",
      "\n",
      "id:u98aTIO33Bd8ddDSuLP2\n",
      "product:Fine rundstykker\n",
      "\n"
     ]
    }
   ],
   "source": [
    "f.list_products(False)"
   ]
  },
  {
   "cell_type": "markdown",
   "metadata": {},
   "source": [
    "### Search"
   ]
  },
  {
   "cell_type": "code",
   "execution_count": 7,
   "metadata": {},
   "outputs": [
    {
     "name": "stdout",
     "output_type": "stream",
     "text": [
      "CPU times: user 31.8 ms, sys: 9.82 ms, total: 41.6 ms\n",
      "Wall time: 3.36 s\n"
     ]
    }
   ],
   "source": [
    "%%time\n",
    "products = f.get_docs_old()"
   ]
  },
  {
   "cell_type": "code",
   "execution_count": 8,
   "metadata": {},
   "outputs": [
    {
     "name": "stdout",
     "output_type": "stream",
     "text": [
      "CPU times: user 9.09 ms, sys: 2.55 ms, total: 11.6 ms\n",
      "Wall time: 223 ms\n"
     ]
    }
   ],
   "source": [
    "%%time\n",
    "products = f.get_docs()"
   ]
  },
  {
   "cell_type": "code",
   "execution_count": 12,
   "metadata": {
    "collapsed": true
   },
   "outputs": [
    {
     "data": {
      "text/plain": [
       "[{'producer': 'Bakehuset',\n",
       "  'kosher_type': ' M*',\n",
       "  'sub_category': 'hvetebakst',\n",
       "  'kosher_stamp': '',\n",
       "  'product': 'Ferske Boller 8 pk',\n",
       "  'category': 'bakeartiklar',\n",
       "  'ts_created': DatetimeWithNanoseconds(2018, 12, 25, 17, 20, 19, 733000, tzinfo=<UTC>),\n",
       "  'comment': ''},\n",
       " {'kosher_stamp': '',\n",
       "  'product': 'Ferske Skolebrød',\n",
       "  'category': 'bakeartiklar',\n",
       "  'ts_created': DatetimeWithNanoseconds(2018, 12, 25, 17, 20, 22, 486000, tzinfo=<UTC>),\n",
       "  'comment': '',\n",
       "  'producer': 'Bakehuset',\n",
       "  'kosher_type': ' M',\n",
       "  'sub_category': 'hvetebakst'},\n",
       " {'kosher_type': ' M',\n",
       "  'sub_category': 'hvetebakst',\n",
       "  'kosher_stamp': '',\n",
       "  'product': 'Solskinnsboller',\n",
       "  'category': 'bakeartiklar',\n",
       "  'ts_created': DatetimeWithNanoseconds(2018, 12, 25, 17, 20, 22, 291000, tzinfo=<UTC>),\n",
       "  'comment': '',\n",
       "  'producer': 'Bakehuset'},\n",
       " {'ts_created': DatetimeWithNanoseconds(2018, 12, 25, 17, 20, 20, 104000, tzinfo=<UTC>),\n",
       "  'comment': '',\n",
       "  'producer': 'Bakehuset',\n",
       "  'kosher_type': ' M*',\n",
       "  'sub_category': 'hvetebakst',\n",
       "  'kosher_stamp': '',\n",
       "  'product': 'Martin Nordby Hveteboller 8 pk',\n",
       "  'category': 'bakeartiklar'},\n",
       " {'comment': '',\n",
       "  'producer': 'Toro',\n",
       "  'kosher_type': 'p',\n",
       "  'sub_category': '',\n",
       "  'kosher_stamp': '',\n",
       "  'product': 'Grove rundstykker',\n",
       "  'category': 'bakeartiklar',\n",
       "  'ts_created': DatetimeWithNanoseconds(2018, 12, 25, 17, 20, 17, 950000, tzinfo=<UTC>)},\n",
       " {'product': 'Rosinboller 8 pk',\n",
       "  'category': 'bakeartiklar',\n",
       "  'ts_created': DatetimeWithNanoseconds(2018, 12, 25, 17, 20, 19, 92000, tzinfo=<UTC>),\n",
       "  'comment': '',\n",
       "  'producer': 'Bakehuset',\n",
       "  'kosher_type': ' M*',\n",
       "  'sub_category': 'hvetebakst',\n",
       "  'kosher_stamp': ''},\n",
       " {'producer': 'Toro',\n",
       "  'kosher_type': 'p',\n",
       "  'sub_category': '',\n",
       "  'kosher_stamp': '',\n",
       "  'product': 'Knekkebrød',\n",
       "  'category': 'bakeartiklar',\n",
       "  'ts_created': DatetimeWithNanoseconds(2018, 12, 25, 17, 20, 18, 435000, tzinfo=<UTC>),\n",
       "  'comment': ''},\n",
       " {'sub_category': 'hvetebakst',\n",
       "  'kosher_stamp': '',\n",
       "  'product': 'Skillingsboller',\n",
       "  'category': 'bakeartiklar',\n",
       "  'ts_created': DatetimeWithNanoseconds(2018, 12, 25, 17, 20, 21, 844000, tzinfo=<UTC>),\n",
       "  'comment': '',\n",
       "  'producer': 'Bakehuset',\n",
       "  'kosher_type': ' M*'},\n",
       " {'category': 'bakeartiklar',\n",
       "  'ts_created': DatetimeWithNanoseconds(2018, 12, 25, 17, 20, 22, 70000, tzinfo=<UTC>),\n",
       "  'comment': '',\n",
       "  'producer': 'Bakehuset',\n",
       "  'kosher_type': ' M',\n",
       "  'sub_category': 'hvetebakst',\n",
       "  'kosher_stamp': '',\n",
       "  'product': 'Sommerbolle'},\n",
       " {'producer': 'Bakehuset',\n",
       "  'kosher_type': ' M',\n",
       "  'sub_category': 'hvetebakst',\n",
       "  'kosher_stamp': '',\n",
       "  'product': 'Sjokoladeboller 8 pk',\n",
       "  'category': 'bakeartiklar',\n",
       "  'ts_created': DatetimeWithNanoseconds(2018, 12, 25, 17, 20, 19, 534000, tzinfo=<UTC>),\n",
       "  'comment': ''},\n",
       " {'producer': 'Bakehuset',\n",
       "  'kosher_type': ' M*',\n",
       "  'sub_category': 'hvetebakst',\n",
       "  'kosher_stamp': '',\n",
       "  'product': 'Hveteboller 8 pk',\n",
       "  'category': 'bakeartiklar',\n",
       "  'ts_created': DatetimeWithNanoseconds(2018, 12, 25, 17, 20, 18, 768000, tzinfo=<UTC>),\n",
       "  'comment': ''},\n",
       " {'sub_category': 'hvetebakst',\n",
       "  'kosher_stamp': '',\n",
       "  'product': 'Kanelboller 8 pk',\n",
       "  'category': 'bakeartiklar',\n",
       "  'ts_created': DatetimeWithNanoseconds(2018, 12, 25, 17, 20, 19, 316000, tzinfo=<UTC>),\n",
       "  'comment': '',\n",
       "  'producer': 'Bakehuset',\n",
       "  'kosher_type': ' M*'},\n",
       " {'product': 'Havrebrød',\n",
       "  'category': 'bakeartiklar',\n",
       "  'ts_created': DatetimeWithNanoseconds(2018, 12, 25, 17, 20, 20, 406000, tzinfo=<UTC>),\n",
       "  'comment': '',\n",
       "  'producer': 'Moro',\n",
       "  'kosher_type': 'm',\n",
       "  'sub_category': '',\n",
       "  'kosher_stamp': ''},\n",
       " {'producer': 'Bakehuset',\n",
       "  'kosher_type': ' M',\n",
       "  'sub_category': 'hvetebakst',\n",
       "  'kosher_stamp': '',\n",
       "  'product': 'Fobetron 6 pk',\n",
       "  'category': 'bakeartiklar',\n",
       "  'ts_created': DatetimeWithNanoseconds(2018, 12, 25, 17, 20, 20, 894000, tzinfo=<UTC>),\n",
       "  'comment': ''},\n",
       " {'producer': 'Bakehuset',\n",
       "  'kosher_type': ' M*',\n",
       "  'sub_category': 'hvetebakst',\n",
       "  'kosher_stamp': '',\n",
       "  'product': 'Vaniljeboller 6 pk',\n",
       "  'category': 'bakeartiklar',\n",
       "  'ts_created': DatetimeWithNanoseconds(2018, 12, 25, 17, 20, 21, 123000, tzinfo=<UTC>),\n",
       "  'comment': ''},\n",
       " {'kosher_type': ' M*',\n",
       "  'sub_category': 'hvetebakst',\n",
       "  'kosher_stamp': '',\n",
       "  'product': 'Martin Nordby Rosinboller 8 pk',\n",
       "  'category': 'bakeartiklar',\n",
       "  'ts_created': DatetimeWithNanoseconds(2018, 12, 25, 17, 20, 20, 715000, tzinfo=<UTC>),\n",
       "  'comment': '',\n",
       "  'producer': 'Bakehuset'},\n",
       " {'ts_created': DatetimeWithNanoseconds(2018, 12, 25, 17, 20, 17, 648000, tzinfo=<UTC>),\n",
       "  'comment': '',\n",
       "  'producer': 'Toro',\n",
       "  'kosher_type': 'p',\n",
       "  'sub_category': '',\n",
       "  'kosher_stamp': '',\n",
       "  'product': 'Fine rundstykker',\n",
       "  'category': 'bakeartiklar'}]"
      ]
     },
     "execution_count": 12,
     "metadata": {},
     "output_type": "execute_result"
    }
   ],
   "source": [
    "products"
   ]
  },
  {
   "cell_type": "code",
   "execution_count": null,
   "metadata": {
    "collapsed": true
   },
   "outputs": [],
   "source": [
    "# %%time\n",
    "def get_docs():\n",
    "    docs = f.products_ref().get()\n",
    "    products = []\n",
    "    for doc in docs:\n",
    "        products.append(doc.to_dict())\n",
    "    return products\n",
    "\n",
    "p = get_docs()"
   ]
  },
  {
   "cell_type": "code",
   "execution_count": 15,
   "metadata": {},
   "outputs": [
    {
     "data": {
      "text/plain": [
       "generator"
      ]
     },
     "execution_count": 15,
     "metadata": {},
     "output_type": "execute_result"
    }
   ],
   "source": [
    "docs = f.products_ref().get()\n",
    "\n",
    "type(docs)"
   ]
  },
  {
   "cell_type": "markdown",
   "metadata": {},
   "source": [
    "### Misc"
   ]
  },
  {
   "cell_type": "code",
   "execution_count": 5,
   "metadata": {
    "collapsed": true
   },
   "outputs": [
    {
     "name": "stdout",
     "output_type": "stream",
     "text": [
      "+Product (J7Rh7IcdEZ3Sxnb0N1yO) was created\n"
     ]
    },
    {
     "data": {
      "text/plain": [
       "<google.cloud.firestore_v1beta1.document.DocumentReference at 0x112702908>"
      ]
     },
     "execution_count": 5,
     "metadata": {},
     "output_type": "execute_result"
    }
   ],
   "source": [
    "f.create({\n",
    "    u'category': u'bakeartiklar',\n",
    "    u'comment': u'BYE',\n",
    "    u'kosher_stamp': u'',\n",
    "    u'kosher_type': u'p',\n",
    "    u'producer': u'Toro',\n",
    "    u'product': u'FulLe rundstykker',\n",
    "    u'sub_category': u'',\n",
    "})"
   ]
  },
  {
   "cell_type": "code",
   "execution_count": 8,
   "metadata": {
    "collapsed": true
   },
   "outputs": [
    {
     "name": "stdout",
     "output_type": "stream",
     "text": [
      "category     : bakeartiklar\n",
      "comment      : \n",
      "kosher_stamp : \n",
      "kosher_type  :  M*\n",
      "producer     : Bakehuset\n",
      "product      : Ferske Boller 8 pk\n",
      "sub_category : hvetebakst\n",
      "ts_created   : 2018-12-25 17:20:19.733000+00:00\n",
      "---\n"
     ]
    },
    {
     "data": {
      "text/plain": [
       "<google.cloud.firestore_v1beta1.document.DocumentReference at 0x10997eeb8>"
      ]
     },
     "execution_count": 8,
     "metadata": {},
     "output_type": "execute_result"
    }
   ],
   "source": [
    "doc_ref1 = f.get_doc_ref(u'7JMNw46AUUOigBc3A2Hz')\n",
    "\n",
    "f.pp(doc_ref1)"
   ]
  },
  {
   "cell_type": "code",
   "execution_count": 9,
   "metadata": {},
   "outputs": [
    {
     "name": "stdout",
     "output_type": "stream",
     "text": [
      "Product (213132) does not exists\n",
      "Product (213132) does not exists\n"
     ]
    },
    {
     "data": {
      "text/plain": [
       "<google.cloud.firestore_v1beta1.document.DocumentReference at 0x10995d438>"
      ]
     },
     "execution_count": 9,
     "metadata": {},
     "output_type": "execute_result"
    }
   ],
   "source": [
    "# doc_ref1 = f.get_doc_ref(u'J7Rh7IcdEZ3Sxnb0N1yO')\n",
    "# doc_ref2 = f.delete(f.get_doc_ref(u'J7Rh7IcdEZ3Sxnb0N1yO'))\n",
    "doc_ref3 = f.get_doc_ref(u'213132')\n",
    "\n",
    "f.update(doc_ref3, {u'comment':'Bye'})"
   ]
  },
  {
   "cell_type": "code",
   "execution_count": 10,
   "metadata": {
    "collapsed": true
   },
   "outputs": [
    {
     "name": "stdout",
     "output_type": "stream",
     "text": [
      "Product (J7Rh7IcdEZ3Sxnb0N1yO) does not exists\n",
      "Product (nTk2VlJoA9MOXxZuMrBs) does not exists\n",
      "Product (nTk2VlJoA9MOXxZuMrBs) does not exists\n"
     ]
    },
    {
     "data": {
      "text/plain": [
       "<google.cloud.firestore_v1beta1.document.DocumentReference at 0x1099894a8>"
      ]
     },
     "execution_count": 10,
     "metadata": {},
     "output_type": "execute_result"
    },
    {
     "data": {
      "text/plain": [
       "False"
      ]
     },
     "metadata": {},
     "output_type": "display_data"
    },
    {
     "data": {
      "text/plain": [
       "False"
      ]
     },
     "metadata": {},
     "output_type": "display_data"
    }
   ],
   "source": [
    "doc_ref1 = f.get_doc_ref(u'J7Rh7IcdEZ3Sxnb0N1yO')\n",
    "doc_ref2 = f.delete(f.get_doc_ref(u'nTk2VlJoA9MOXxZuMrBs'))\n",
    "\n",
    "f.pp(doc_ref1)\n",
    "display(f.isDeleted(doc_ref1))\n",
    "display(f.exists(doc_ref1))"
   ]
  }
 ],
 "metadata": {
  "kernelspec": {
   "display_name": "Python 3",
   "language": "python",
   "name": "python3"
  },
  "language_info": {
   "codemirror_mode": {
    "name": "ipython",
    "version": 3
   },
   "file_extension": ".py",
   "mimetype": "text/x-python",
   "name": "python",
   "nbconvert_exporter": "python",
   "pygments_lexer": "ipython3",
   "version": "3.6.5"
  }
 },
 "nbformat": 4,
 "nbformat_minor": 2
}
