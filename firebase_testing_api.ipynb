{
 "cells": [
  {
   "cell_type": "code",
   "execution_count": 1,
   "metadata": {},
   "outputs": [],
   "source": [
    "import firebase_kapp_api as f\n",
    "import pandas as pd"
   ]
  },
  {
   "cell_type": "code",
   "execution_count": 2,
   "metadata": {},
   "outputs": [],
   "source": [
    "csv_path = 'products.csv'\n",
    "df = pd.read_csv(csv_path).fillna(\"\")\n",
    "# df"
   ]
  },
  {
   "cell_type": "code",
   "execution_count": 3,
   "metadata": {},
   "outputs": [
    {
     "data": {
      "text/html": [
       "<div>\n",
       "<style scoped>\n",
       "    .dataframe tbody tr th:only-of-type {\n",
       "        vertical-align: middle;\n",
       "    }\n",
       "\n",
       "    .dataframe tbody tr th {\n",
       "        vertical-align: top;\n",
       "    }\n",
       "\n",
       "    .dataframe thead th {\n",
       "        text-align: right;\n",
       "    }\n",
       "</style>\n",
       "<table border=\"1\" class=\"dataframe\">\n",
       "  <thead>\n",
       "    <tr style=\"text-align: right;\">\n",
       "      <th></th>\n",
       "      <th>category</th>\n",
       "      <th>sub_category</th>\n",
       "      <th>producer</th>\n",
       "      <th>product</th>\n",
       "      <th>kosher_type</th>\n",
       "      <th>kosher_stamp</th>\n",
       "      <th>comment</th>\n",
       "    </tr>\n",
       "  </thead>\n",
       "  <tbody>\n",
       "    <tr>\n",
       "      <th>2</th>\n",
       "      <td>bakeartiklar</td>\n",
       "      <td></td>\n",
       "      <td>Toro</td>\n",
       "      <td>Havrebrød</td>\n",
       "      <td>p</td>\n",
       "      <td></td>\n",
       "      <td></td>\n",
       "    </tr>\n",
       "    <tr>\n",
       "      <th>10</th>\n",
       "      <td>bakeartiklar</td>\n",
       "      <td></td>\n",
       "      <td>Moro</td>\n",
       "      <td>Havrebrød</td>\n",
       "      <td>m</td>\n",
       "      <td></td>\n",
       "      <td></td>\n",
       "    </tr>\n",
       "    <tr>\n",
       "      <th>15</th>\n",
       "      <td>bakeartiklar</td>\n",
       "      <td>hvetebakst</td>\n",
       "      <td>Bakehuset</td>\n",
       "      <td>Solskinnsboller</td>\n",
       "      <td>M</td>\n",
       "      <td></td>\n",
       "      <td></td>\n",
       "    </tr>\n",
       "    <tr>\n",
       "      <th>18</th>\n",
       "      <td>bakeartiklar</td>\n",
       "      <td>hvetebakst</td>\n",
       "      <td>Bakehuset</td>\n",
       "      <td>Solskinnsboller</td>\n",
       "      <td>M</td>\n",
       "      <td></td>\n",
       "      <td></td>\n",
       "    </tr>\n",
       "  </tbody>\n",
       "</table>\n",
       "</div>"
      ],
      "text/plain": [
       "        category sub_category   producer          product kosher_type  \\\n",
       "2   bakeartiklar                    Toro        Havrebrød           p   \n",
       "10  bakeartiklar                    Moro        Havrebrød           m   \n",
       "15  bakeartiklar   hvetebakst  Bakehuset  Solskinnsboller           M   \n",
       "18  bakeartiklar   hvetebakst  Bakehuset  Solskinnsboller           M   \n",
       "\n",
       "   kosher_stamp comment  \n",
       "2                        \n",
       "10                       \n",
       "15                       \n",
       "18                       "
      ]
     },
     "execution_count": 3,
     "metadata": {},
     "output_type": "execute_result"
    }
   ],
   "source": [
    "# Find duplicates in the CSV file.\n",
    "dups = df.duplicated(subset='product', keep=False) \n",
    "df[dups].sort_values(by='product')"
   ]
  },
  {
   "cell_type": "code",
   "execution_count": 4,
   "metadata": {
    "collapsed": true
   },
   "outputs": [
    {
     "name": "stdout",
     "output_type": "stream",
     "text": [
      "+Product Fine rundstykker (u98aTIO33Bd8ddDSuLP2) was created\n",
      "+Product Grove rundstykker (FgHXL5LqV0q4MKXbYtIv) was created\n",
      "+Product Havrebrød (MqKPnSPSNALTt9NTavtY) was created\n",
      "+Product Knekkebrød (MB7NyUkEQig3J0NObXWg) was created\n",
      "+Product Hveteboller 8 pk (SZ7tduVt4sODCul1ubyd) was created\n",
      "+Product Rosinboller 8 pk (HzIoBAqqqaJLvoKiQdDQ) was created\n",
      "+Product Kanelboller 8 pk (aKhqpAOpt3QqVizyXJyc) was created\n",
      "+Product Sjokoladeboller 8 pk (OUunVw3hpVxS25J9Q52T) was created\n",
      "+Product Ferske Boller 8 pk (7JMNw46AUUOigBc3A2Hz) was created\n",
      "+Product Martin Nordby Hveteboller 8 pk (E4kEVTQIPzswp3hSWyPs) was created\n",
      "+Product Havrebrød (cq8UoeC2ZCe1LD8544hN) was created\n",
      "+Product Martin Nordby Rosinboller 8 pk (tgJZJ4lJkrXupRivJZ3S) was created\n",
      "+Product Fobetron 6 pk (hCgIZ5ozUxu5hAancV0C) was created\n",
      "+Product Vaniljeboller 6 pk (lI9mE0Yiz5Wz0rMLKWAl) was created\n",
      "+Product Skolebrød (0qAGFb8MaQYgLlv7jsdf) was created\n",
      "+Product Solskinnsboller (AESaSZaGuFIGpPqaym41) was created\n",
      "+Product Skillingsboller (O2qLXhLwZOCL1p5lpVYN) was created\n",
      "+Product Sommerbolle (ORzwGI8hxFoC541yiUt1) was created\n",
      "+Product Solskinnsboller (AgMyvFR2pHhtUbIo7qzv) was created\n",
      "+Product Ferske Skolebrød (AW6QRr66epzuMjV5Z8Y4) was created\n"
     ]
    }
   ],
   "source": [
    "f.batch_create(df)"
   ]
  },
  {
   "cell_type": "code",
   "execution_count": 5,
   "metadata": {},
   "outputs": [
    {
     "data": {
      "text/plain": [
       "20"
      ]
     },
     "execution_count": 5,
     "metadata": {},
     "output_type": "execute_result"
    },
    {
     "data": {
      "text/plain": [
       "18"
      ]
     },
     "execution_count": 5,
     "metadata": {},
     "output_type": "execute_result"
    }
   ],
   "source": [
    "len(df)\n",
    "f.nofProducts()"
   ]
  },
  {
   "cell_type": "code",
   "execution_count": 4,
   "metadata": {},
   "outputs": [
    {
     "data": {
      "text/plain": [
       "[]"
      ]
     },
     "execution_count": 4,
     "metadata": {},
     "output_type": "execute_result"
    }
   ],
   "source": [
    "f.find_duplicates()"
   ]
  },
  {
   "cell_type": "code",
   "execution_count": 3,
   "metadata": {},
   "outputs": [
    {
     "name": "stdout",
     "output_type": "stream",
     "text": [
      "Duplicate product Solskinnsboller (AESaSZaGuFIGpPqaym41) was erased.\n",
      "Duplicate product Havrebrød (MqKPnSPSNALTt9NTavtY) was erased.\n"
     ]
    }
   ],
   "source": [
    "f.erase_duplicates()"
   ]
  },
  {
   "cell_type": "code",
   "execution_count": 10,
   "metadata": {
    "collapsed": true
   },
   "outputs": [
    {
     "name": "stdout",
     "output_type": "stream",
     "text": [
      "id:8FQ0WkqRiAahytbePXA7\n",
      "product:Martin Nordby Rosinboller 8 pk\n",
      "\n",
      "id:8gs2fnzJH5WIBsRbukgj\n",
      "product:Skolebrød\n",
      "\n",
      "id:ChKpg4DB1YiwJHweIMz9\n",
      "product:Fobetron 6 pk\n",
      "\n",
      "id:FVr0mEiWArg43lG8wF6J\n",
      "product:Sommerbolle\n",
      "\n",
      "id:G46NUAI3JWh4n0FDgeZF\n",
      "product:Vaniljeboller 6 pk\n",
      "\n",
      "id:JSh3Jx4Yj6hJslpiSusc\n",
      "product:Knekkebrød\n",
      "\n",
      "id:KbrurZMg6K8AUTFQzfi1\n",
      "product:Solskinnsboller\n",
      "\n",
      "id:MOHqVEMh3tLEJ7awqBH9\n",
      "product:Grove rundstykker\n",
      "\n",
      "id:NmjeHtFY3vKDOmXUp44b\n",
      "product:Hveteboller 8 pk\n",
      "\n",
      "id:NvYUiI3wWfx3U50SiOA7\n",
      "product:Sjokoladeboller 8 pk\n",
      "\n",
      "id:P2dszMOpKG9wAzrcqzRw\n",
      "product:Ferske Skolebrød\n",
      "\n",
      "id:RTTxS7B97yhhHe1TkZq2\n",
      "product:Martin Nordby Hveteboller 8 pk\n",
      "\n",
      "id:W3e9Jhv33eihXF5wd8YZ\n",
      "product:Fine rundstykker\n",
      "\n",
      "id:WKRBp1a0ObddDFj1GF9j\n",
      "product:Ferske Boller 8 pk\n",
      "\n",
      "id:b2MXHQEerakhNDQdD9qr\n",
      "product:Havrebrød\n",
      "\n",
      "id:b6K7lW6uZrooeED6KbqC\n",
      "product:Rosinboller 8 pk\n",
      "\n",
      "id:dmKlHEJST308JzPR4jCd\n",
      "product:Kanelboller 8 pk\n",
      "\n",
      "id:fGuWFY7M30ZWDneWSrmt\n",
      "product:Fobetron 6 pk\n",
      "\n",
      "id:jayQoq4mZ4Eoco34j89X\n",
      "product:Rosinboller 8 pk\n",
      "\n",
      "id:vpqvJEqWWSqfxrBNBxk1\n",
      "product:Skillingsboller\n",
      "\n"
     ]
    }
   ],
   "source": [
    "f.list_products(False)"
   ]
  },
  {
   "cell_type": "code",
   "execution_count": 11,
   "metadata": {},
   "outputs": [
    {
     "name": "stdout",
     "output_type": "stream",
     "text": [
      "Product (uGMlhspLXseCT5n89MPT) does not exists\n"
     ]
    },
    {
     "data": {
      "text/plain": [
       "<google.cloud.firestore_v1beta1.document.DocumentReference at 0x10ec7d4a8>"
      ]
     },
     "execution_count": 11,
     "metadata": {},
     "output_type": "execute_result"
    }
   ],
   "source": [
    "f.erase(f.get_doc_ref('uGMlhspLXseCT5n89MPT'))"
   ]
  },
  {
   "cell_type": "code",
   "execution_count": 5,
   "metadata": {},
   "outputs": [
    {
     "name": "stdout",
     "output_type": "stream",
     "text": [
      "+Product (J7Rh7IcdEZ3Sxnb0N1yO) was created\n"
     ]
    },
    {
     "data": {
      "text/plain": [
       "<google.cloud.firestore_v1beta1.document.DocumentReference at 0x112702908>"
      ]
     },
     "execution_count": 5,
     "metadata": {},
     "output_type": "execute_result"
    }
   ],
   "source": [
    "f.create({\n",
    "    u'category': u'bakeartiklar',\n",
    "    u'comment': u'BYE',\n",
    "    u'kosher_stamp': u'',\n",
    "    u'kosher_type': u'p',\n",
    "    u'producer': u'Toro',\n",
    "    u'product': u'FulLe rundstykker',\n",
    "    u'sub_category': u'',\n",
    "})"
   ]
  },
  {
   "cell_type": "code",
   "execution_count": 3,
   "metadata": {
    "collapsed": true
   },
   "outputs": [
    {
     "name": "stdout",
     "output_type": "stream",
     "text": [
      "category     : bakeartiklar\n",
      "comment      : Hello\n",
      "created      : 2018-12-25 13:42:48.412000+00:00\n",
      "kosher_stamp : nan\n",
      "kosher_type  : p\n",
      "modified     : 2018-12-25 13:48:38.187000+00:00\n",
      "producer     : Toro\n",
      "product      : Havrebrød\n",
      "sub_category : nan\n",
      "---\n"
     ]
    },
    {
     "data": {
      "text/plain": [
       "<google.cloud.firestore_v1beta1.document.DocumentReference at 0x116655ef0>"
      ]
     },
     "execution_count": 3,
     "metadata": {},
     "output_type": "execute_result"
    }
   ],
   "source": [
    "doc_ref1 = f.get_doc_ref(u'xwiYvbdP3Lhz9xsBT1mC')\n",
    "\n",
    "f.pp(doc_ref1)"
   ]
  },
  {
   "cell_type": "code",
   "execution_count": 12,
   "metadata": {
    "collapsed": true
   },
   "outputs": [
    {
     "name": "stdout",
     "output_type": "stream",
     "text": [
      "Product (213132) does not exists\n",
      "Product (213132) does not exists\n"
     ]
    },
    {
     "data": {
      "text/plain": [
       "<google.cloud.firestore_v1beta1.document.DocumentReference at 0x112702828>"
      ]
     },
     "execution_count": 12,
     "metadata": {},
     "output_type": "execute_result"
    }
   ],
   "source": [
    "# doc_ref1 = f.get_doc_ref(u'J7Rh7IcdEZ3Sxnb0N1yO')\n",
    "# doc_ref2 = f.delete(f.get_doc_ref(u'J7Rh7IcdEZ3Sxnb0N1yO'))\n",
    "doc_ref3 = f.get_doc_ref(u'213132')\n",
    "\n",
    "f.update(doc_ref3, {u'comment':'Bye'})"
   ]
  },
  {
   "cell_type": "code",
   "execution_count": 13,
   "metadata": {},
   "outputs": [
    {
     "data": {
      "text/plain": [
       "<google.cloud.firestore_v1beta1.document.DocumentReference at 0x108fa1b00>"
      ]
     },
     "execution_count": 13,
     "metadata": {},
     "output_type": "execute_result"
    }
   ],
   "source": [
    "f.erase(doc_ref)"
   ]
  },
  {
   "cell_type": "code",
   "execution_count": 14,
   "metadata": {},
   "outputs": [
    {
     "name": "stdout",
     "output_type": "stream",
     "text": [
      "Product (nTk2VlJoA9MOXxZuMrBs) does not exists\n",
      "Product (nTk2VlJoA9MOXxZuMrBs) does not exists\n",
      "category     : bakeartiklar\n",
      "comment      : Bye\n",
      "kosher_stamp : \n",
      "kosher_type  : p\n",
      "producer     : Toro\n",
      "product      : FulLe rundstykker\n",
      "sub_category : \n",
      "ts_created   : 2018-12-25 15:09:41.238000+00:00\n",
      "ts_deleted   : 2018-12-25 15:10:42.401000+00:00\n",
      "ts_modified  : 2018-12-25 15:10:42.401000+00:00\n",
      "---\n"
     ]
    },
    {
     "data": {
      "text/plain": [
       "<google.cloud.firestore_v1beta1.document.DocumentReference at 0x112702f98>"
      ]
     },
     "execution_count": 14,
     "metadata": {},
     "output_type": "execute_result"
    },
    {
     "data": {
      "text/plain": [
       "True"
      ]
     },
     "metadata": {},
     "output_type": "display_data"
    },
    {
     "data": {
      "text/plain": [
       "True"
      ]
     },
     "metadata": {},
     "output_type": "display_data"
    }
   ],
   "source": [
    "doc_ref1 = f.get_doc_ref(u'J7Rh7IcdEZ3Sxnb0N1yO')\n",
    "doc_ref2 = f.delete(f.get_doc_ref(u'nTk2VlJoA9MOXxZuMrBs'))\n",
    "\n",
    "f.pp(doc_ref1)\n",
    "display(f.isDeleted(doc_ref1))\n",
    "display(f.exists(doc_ref1))"
   ]
  }
 ],
 "metadata": {
  "kernelspec": {
   "display_name": "Python 3",
   "language": "python",
   "name": "python3"
  },
  "language_info": {
   "codemirror_mode": {
    "name": "ipython",
    "version": 3
   },
   "file_extension": ".py",
   "mimetype": "text/x-python",
   "name": "python",
   "nbconvert_exporter": "python",
   "pygments_lexer": "ipython3",
   "version": "3.6.5"
  }
 },
 "nbformat": 4,
 "nbformat_minor": 2
}
