{
 "cells": [
  {
   "cell_type": "markdown",
   "metadata": {},
   "source": [
    "### Database using Firestore\n",
    "\n",
    "Since we only use the read operation, it was easier to generate a database-file to deploy. This code is not used anymore, and may not work."
   ]
  },
  {
   "cell_type": "code",
   "execution_count": 1,
   "metadata": {},
   "outputs": [],
   "source": [
    "import kapp_firestore_api as f\n",
    "import pandas as pd"
   ]
  },
  {
   "cell_type": "code",
   "execution_count": null,
   "metadata": {},
   "outputs": [],
   "source": [
    "csv_files = {\n",
    "    'babymat': 'babymat.csv',\n",
    "    'bakeartikler': 'bakeartikler.csv',\n",
    "    'bakevarer': 'bakevarer.csv',\n",
    "    'div_matprodukter': 'div_matprodukter.csv',\n",
    "    'drikke': 'drikke.csv',\n",
    "    'fisk': 'fisk.csv',\n",
    "    'frukt_gront': 'frukt_gront.csv',\n",
    "    'helsekost': 'helsekost.csv',\n",
    "    'is_dessert': 'is_dessert.csv',\n",
    "    'meieri_ost': 'meieri_ost.csv',\n",
    "    'palegg_frokost': 'palegg_frokost.csv',\n",
    "    'snacks_godteri': 'snacks_godteri.csv',\n",
    "}"
   ]
  },
  {
   "cell_type": "code",
   "execution_count": null,
   "metadata": {},
   "outputs": [],
   "source": [
    "find_duplicates_all(csv_files)\n",
    "count_products()"
   ]
  },
  {
   "cell_type": "code",
   "execution_count": null,
   "metadata": {},
   "outputs": [],
   "source": [
    "def read_data(csv_file):\n",
    "    \"\"\"\n",
    "    Local\n",
    "    Also presents some information about the data.\n",
    "    Returns: A Panda DataFrame.\n",
    "    \"\"\"\n",
    "    print(\"------ Reading\", csv_file)\n",
    "    df = pd.read_csv(csv_file)\n",
    "    return df"
   ]
  },
  {
   "cell_type": "code",
   "execution_count": null,
   "metadata": {},
   "outputs": [],
   "source": [
    "# %%time\n",
    "def get_docs():\n",
    "    \"\"\"\n",
    "    Firestore\n",
    "    \"\"\"\n",
    "    docs = f.products_ref().get()\n",
    "    products = []\n",
    "    for doc in docs:\n",
    "        products.append(doc.to_dict())\n",
    "    return products"
   ]
  },
  {
   "cell_type": "code",
   "execution_count": null,
   "metadata": {},
   "outputs": [],
   "source": [
    "def count_products(localOnly = True):\n",
    "    \"\"\"\n",
    "    Firestore & Local\n",
    "    Count products in CSV files and in the database.\n",
    "    \"\"\"\n",
    "    print(\"------ Count Products\")\n",
    "    csv_len_sum = 0\n",
    "    for k,v in csv_files.items():\n",
    "        df_len = len(pd.read_csv('data/' + v))\n",
    "        csv_len_sum = csv_len_sum + df_len\n",
    "        print(\"{}: {}\".format(v, df_len))\n",
    "    print(\"---\")\n",
    "    print(\"All files: {}\".format(csv_len_sum))\n",
    "    if not localOnly:\n",
    "        print(\"Database: {}\".format(f.nofProducts()))"
   ]
  },
  {
   "cell_type": "code",
   "execution_count": null,
   "metadata": {},
   "outputs": [],
   "source": [
    "def find_duplicates_df(df):\n",
    "    \"\"\"\n",
    "    Local\n",
    "    Find duplicates in a dataframe (local data from CSV files).\n",
    "    Duplicates is checked on producer+product.\n",
    "    \"\"\"\n",
    "    print('------ Finding Duplicates')\n",
    "    dups = df.duplicated(subset=['producer','product'], keep=False) \n",
    "    df_dups = df[dups].sort_values(by=['producer','product'])\n",
    "    display(df_dups)"
   ]
  },
  {
   "cell_type": "code",
   "execution_count": null,
   "metadata": {},
   "outputs": [],
   "source": [
    "def find_duplicates_all(csv_files):\n",
    "    \"\"\"\n",
    "    Local\n",
    "    See find_duplicates()\n",
    "    \"\"\"\n",
    "    df = pd.DataFrame()\n",
    "    for k,v in csv_files.items():\n",
    "        df = pd.concat([df, read_data('data/' + v)], ignore_index=True)\n",
    "    find_duplicates_df(df)"
   ]
  },
  {
   "cell_type": "code",
   "execution_count": null,
   "metadata": {},
   "outputs": [],
   "source": [
    "def insert_data(df):\n",
    "    \"\"\"\n",
    "    Firestore\n",
    "    Creates products in the Firebase database.\n",
    "    Input: A DataFrame\n",
    "    \"\"\"\n",
    "    print(\"------ Batch Insert Data\")\n",
    "    f.batch_create(df)"
   ]
  },
  {
   "cell_type": "code",
   "execution_count": null,
   "metadata": {},
   "outputs": [],
   "source": [
    "def insert_from_single_file(csv_file):\n",
    "    \"\"\"\n",
    "    Firestore & local\n",
    "    Insert to Firestore from a single CSV file.\n",
    "    \"\"\"\n",
    "    df = read_data('data/' + csv_file)\n",
    "    find_duplicates(df)\n",
    "    # insert_data(df)\n",
    "    count_products()\n",
    "    \n",
    "# insert_from_single_file(csv_files['frukt_gront'])"
   ]
  },
  {
   "cell_type": "code",
   "execution_count": null,
   "metadata": {},
   "outputs": [],
   "source": [
    "def insert_from_files(csv_files):\n",
    "    \"\"\"\n",
    "    Firestore & local\n",
    "    Insert to Firestore from a set of CSV files.\n",
    "    \"\"\"\n",
    "    for k,v in csv_files.items():\n",
    "        df = read_data('data/' + v)\n",
    "#         insert_data(df)\n",
    "\n",
    "# insert_from_files(csv_files)\n",
    "# count_products()"
   ]
  },
  {
   "cell_type": "code",
   "execution_count": null,
   "metadata": {},
   "outputs": [],
   "source": [
    "# f.list_products(False)"
   ]
  },
  {
   "cell_type": "markdown",
   "metadata": {},
   "source": [
    "### Sandbox"
   ]
  },
  {
   "cell_type": "code",
   "execution_count": null,
   "metadata": {},
   "outputs": [],
   "source": [
    "# f.create({\n",
    "#     u'category': u'REMOVE',\n",
    "#     u'comment': u'',\n",
    "#     u'kosher_stamp': u'',\n",
    "#     u'kosher_type': u'p',\n",
    "#     u'producer': u'Toro',\n",
    "#     u'product': u'suppe',\n",
    "#     u'sub_category': u'',\n",
    "# })"
   ]
  },
  {
   "cell_type": "code",
   "execution_count": null,
   "metadata": {},
   "outputs": [],
   "source": [
    "# doc_ref1 = f.get_doc_ref(u'-_\\n')\n",
    "# f.pp(doc_ref1)"
   ]
  },
  {
   "cell_type": "code",
   "execution_count": null,
   "metadata": {},
   "outputs": [],
   "source": [
    "# doc_ref1 = f.get_doc_ref(u'J7Rh7IcdEZ3Sxnb0N1yO')\n",
    "# doc_ref2 = f.delete(f.get_doc_ref(u'J7Rh7IcdEZ3Sxnb0N1yO'))\n",
    "# doc_ref3 = f.get_doc_ref(u'213132')\n",
    "# f.update(doc_ref3, {u'comment':'Bye'})"
   ]
  },
  {
   "cell_type": "code",
   "execution_count": null,
   "metadata": {},
   "outputs": [],
   "source": [
    "# doc_ref1 = f.get_doc_ref(u'J7Rh7IcdEZ3Sxnb0N1yO')\n",
    "# doc_ref2 = f.delete(f.get_doc_ref(u'nTk2VlJoA9MOXxZuMrBs'))\n",
    "\n",
    "# f.pp(doc_ref1)\n",
    "# display(f.isDeleted(doc_ref1))\n",
    "# display(f.exists(doc_ref1))"
   ]
  }
 ],
 "metadata": {
  "kernelspec": {
   "display_name": "Python 3",
   "language": "python",
   "name": "python3"
  },
  "language_info": {
   "codemirror_mode": {
    "name": "ipython",
    "version": 3
   },
   "file_extension": ".py",
   "mimetype": "text/x-python",
   "name": "python",
   "nbconvert_exporter": "python",
   "pygments_lexer": "ipython3",
   "version": "3.6.5"
  }
 },
 "nbformat": 4,
 "nbformat_minor": 2
}
