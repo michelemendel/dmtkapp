{
 "cells": [
  {
   "cell_type": "markdown",
   "metadata": {},
   "source": [
    "### Firebase Kosher App Database"
   ]
  },
  {
   "cell_type": "code",
   "execution_count": 199,
   "metadata": {},
   "outputs": [],
   "source": [
    "import firebase_admin\n",
    "from firebase_admin import credentials\n",
    "from firebase_admin import firestore\n",
    "import pandas as pd"
   ]
  },
  {
   "cell_type": "markdown",
   "metadata": {},
   "source": [
    "#### Test"
   ]
  },
  {
   "cell_type": "code",
   "execution_count": 299,
   "metadata": {
    "collapsed": true
   },
   "outputs": [
    {
     "name": "stdout",
     "output_type": "stream",
     "text": [
      "id:6IwONBsagezEW44B1buV\n",
      "category     : bakeartiklar\n",
      "comment      : \n",
      "deleted      : 2018-12-25 11:27:53.707000+00:00\n",
      "kosher_stamp : \n",
      "kosher_type  : p\n",
      "modified     : 2018-12-25 08:43:33.314000+00:00\n",
      "producer     : Toro\n",
      "product      : Fule rundstykker\n",
      "sub_category : \n",
      "timestamp    : 2018-12-24 16:12:40.019000+00:00\n",
      "---\n",
      "id:Rg0OXzKuYt3YlkG2iYu5\n",
      "category     : bakeartiklar\n",
      "comment      : \n",
      "kosher_stamp : \n",
      "kosher_type  : p\n",
      "modified     : 2018-12-25 10:19:06.892000+00:00\n",
      "producer     : Toro\n",
      "product      : Fule rundstykker\n",
      "sub_category : \n",
      "---\n",
      "id:U15dqBonmP5TSIujf17c\n",
      "category     : bakeartiklar\n",
      "comment      : \n",
      "kosher_stamp : \n",
      "kosher_type  : p\n",
      "producer     : Toro\n",
      "product      : Fule rundstykker\n",
      "sub_category : \n",
      "---\n",
      "id:e95EDT1LptcI1FdWMzgx\n",
      "category     : bakeartiklar\n",
      "comment      : \n",
      "kosher_stamp : \n",
      "kosher_type  : p\n",
      "producer     : Toro\n",
      "product      : Fule rundstykker\n",
      "sub_category : \n",
      "---\n",
      "id:hZRVSwnHwDzypnUbAjQY\n",
      "category     : bakeartiklar\n",
      "comment      : \n",
      "kosher_stamp : \n",
      "kosher_type  : p\n",
      "producer     : Toro\n",
      "product      : Fine rundstykker\n",
      "sub_category : \n",
      "---\n",
      "id:sZ2xRfr3hdjXtEYoKHxo\n",
      "category     : bakeartiklar\n",
      "comment      : WORLDD\n",
      "kosher_stamp : \n",
      "kosher_type  : p\n",
      "producer     : Toro\n",
      "product      : Fine rundstykker\n",
      "sub_category : \n",
      "---\n"
     ]
    }
   ],
   "source": [
    "list_products(True)"
   ]
  },
  {
   "cell_type": "code",
   "execution_count": 304,
   "metadata": {},
   "outputs": [
    {
     "name": "stdout",
     "output_type": "stream",
     "text": [
      "6IwONBsagezEW44B1buV\n"
     ]
    }
   ],
   "source": [
    "doc_ref = create({\n",
    "    u'category': u'bakeartiklar',\n",
    "    u'comment': u'BYE',\n",
    "    u'kosher_stamp': u'',\n",
    "    u'kosher_type': u'p',\n",
    "    u'producer': u'Toro',\n",
    "    u'product': u'Fule rundstykker',\n",
    "    u'sub_category': u'',\n",
    "})\n",
    "\n",
    "print(doc_ref.id)"
   ]
  },
  {
   "cell_type": "code",
   "execution_count": 262,
   "metadata": {},
   "outputs": [
    {
     "name": "stdout",
     "output_type": "stream",
     "text": [
      "Document (Rg0OXzKuYt3YlkG2iYu5) does not exists\n",
      "Document (6IwONBsagezEW44B1buV) does not exists\n",
      "Document (123) does not exists\n"
     ]
    }
   ],
   "source": [
    "doc_ref1 = get_doc_ref(u'Rg0OXzKuYt3YlkG2iYu5')\n",
    "doc_ref2 = get_doc_ref(u'6IwONBsagezEW44B1buV') # deleted\n",
    "doc_ref3 = get_doc_ref(u'123') # doesn't exist\n",
    "\n",
    "# print(doc_ref2.get().exists)\n",
    "# print(doc_ref3.get().exists)"
   ]
  },
  {
   "cell_type": "code",
   "execution_count": 238,
   "metadata": {},
   "outputs": [
    {
     "name": "stdout",
     "output_type": "stream",
     "text": [
      "Document (123) does not exists\n",
      "Document (123) does not exists\n"
     ]
    }
   ],
   "source": [
    "doc_ref1 = get_doc_ref(u'Rg0OXzKuYt3YlkG2iYu5')\n",
    "doc_ref2 = get_doc_ref(u'6IwONBsagezEW44B1buV') # deleted\n",
    "doc_ref3 = get_doc_ref(u'123') # doesn't exist\n",
    "\n",
    "doc_ref, err = update(\n",
    "    doc_ref3, \n",
    "    {\n",
    "        u'comment':''\n",
    "    }\n",
    ")\n",
    "\n",
    "if (err):\n",
    "    print(err)\n",
    "else:\n",
    "    print(doc_ref.id)"
   ]
  },
  {
   "cell_type": "code",
   "execution_count": 91,
   "metadata": {},
   "outputs": [
    {
     "data": {
      "text/plain": [
       "None"
      ]
     },
     "metadata": {},
     "output_type": "display_data"
    },
    {
     "data": {
      "text/plain": [
       "<google.cloud.firestore_v1beta1.document.DocumentReference at 0x111c352e8>"
      ]
     },
     "execution_count": 91,
     "metadata": {},
     "output_type": "execute_result"
    }
   ],
   "source": [
    "delete(get_doc_ref(u'3kN7q88fdmTTr5vzngQZ'))"
   ]
  },
  {
   "cell_type": "code",
   "execution_count": 94,
   "metadata": {},
   "outputs": [
    {
     "data": {
      "text/plain": [
       "None"
      ]
     },
     "metadata": {},
     "output_type": "display_data"
    },
    {
     "data": {
      "text/plain": [
       "<google.cloud.firestore_v1beta1.document.DocumentReference at 0x111c35780>"
      ]
     },
     "execution_count": 94,
     "metadata": {},
     "output_type": "execute_result"
    }
   ],
   "source": [
    "erase(get_doc_ref(u'3kN7q88fdmTTr5vzngQZ'))"
   ]
  },
  {
   "cell_type": "code",
   "execution_count": 105,
   "metadata": {},
   "outputs": [
    {
     "name": "stdout",
     "output_type": "stream",
     "text": [
      "6IwONBsagezEW44B1buV\n"
     ]
    },
    {
     "data": {
      "text/plain": [
       "{'comment': '',\n",
       " 'timestamp': DatetimeWithNanoseconds(2018, 12, 24, 16, 12, 40, 19000, tzinfo=<UTC>),\n",
       " 'producer': 'Toro',\n",
       " 'kosher_type': 'p',\n",
       " 'modified': DatetimeWithNanoseconds(2018, 12, 25, 8, 43, 33, 314000, tzinfo=<UTC>),\n",
       " 'sub_category': '',\n",
       " 'kosher_stamp': '',\n",
       " 'product': 'Fule rundstykker',\n",
       " 'category': 'bakeartiklar'}"
      ]
     },
     "metadata": {},
     "output_type": "display_data"
    }
   ],
   "source": [
    "doc_ref = get_doc_ref(u'6IwONBsagezEW44B1buV')\n",
    "print(doc_ref.id)\n",
    "display(doc_ref.get().to_dict())"
   ]
  },
  {
   "cell_type": "code",
   "execution_count": 273,
   "metadata": {},
   "outputs": [
    {
     "name": "stdout",
     "output_type": "stream",
     "text": [
      "category     : bakeartiklar\n",
      "comment      : \n",
      "deleted      : 2018-12-25 11:27:53.707000+00:00\n",
      "kosher_stamp : \n",
      "kosher_type  : p\n",
      "modified     : 2018-12-25 08:43:33.314000+00:00\n",
      "producer     : Toro\n",
      "product      : Fule rundstykker\n",
      "sub_category : \n",
      "timestamp    : 2018-12-24 16:12:40.019000+00:00\n"
     ]
    }
   ],
   "source": [
    "doc_ref = get_doc_ref(u'6IwONBsagezEW44B1buV')\n",
    "# delete(doc_ref)\n",
    "doc = get_doc(doc_ref)\n",
    "pp(doc_ref)\n",
    "\n",
    "\n",
    "# display(isDeleted(doc_ref))\n",
    "# display(exists(doc_ref))"
   ]
  }
 ],
 "metadata": {
  "kernelspec": {
   "display_name": "Python 3",
   "language": "python",
   "name": "python3"
  },
  "language_info": {
   "codemirror_mode": {
    "name": "ipython",
    "version": 3
   },
   "file_extension": ".py",
   "mimetype": "text/x-python",
   "name": "python",
   "nbconvert_exporter": "python",
   "pygments_lexer": "ipython3",
   "version": "3.6.5"
  }
 },
 "nbformat": 4,
 "nbformat_minor": 2
}
